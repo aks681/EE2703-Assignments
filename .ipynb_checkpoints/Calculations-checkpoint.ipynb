{
 "cells": [
  {
   "cell_type": "code",
   "execution_count": 1,
   "metadata": {},
   "outputs": [],
   "source": [
    "from sympy import S, Eq, solve\n",
    "import sympy\n",
    "import numpy"
   ]
  },
  {
   "cell_type": "code",
   "execution_count": 2,
   "metadata": {},
   "outputs": [],
   "source": [
    "A,R2,R1,R3,C,w,Q = S('A R2 R1 R3 C w Q'.split())"
   ]
  },
  {
   "cell_type": "code",
   "execution_count": 3,
   "metadata": {},
   "outputs": [],
   "source": [
    "equations = [Eq(Q, 10),\\\n",
    "             Eq(Q, 1/2*sympy.sqrt(R2*(1/R1+1/R3))),\\\n",
    "             Eq(w, 2*numpy.pi*1e3),\\\n",
    "             Eq(w,1/(C*R2)*sympy.sqrt(R2*(1/R1+1/R3))),\\\n",
    "             Eq(A, 1),\\\n",
    "             Eq(A, R2/2/R1),\n",
    "            Eq(R3,82)]"
   ]
  },
  {
   "cell_type": "code",
   "execution_count": 4,
   "metadata": {},
   "outputs": [
    {
     "data": {
      "text/plain": [
       "[{A: 1.00000000000000,\n",
       "  C: 9.75333638263851e-8,\n",
       "  Q: 10.0000000000000,\n",
       "  R1: 16318.0000000000,\n",
       "  R2: 32636.0000000000,\n",
       "  R3: 82.0000000000000,\n",
       "  w: 6283.18530717959}]"
      ]
     },
     "execution_count": 4,
     "metadata": {},
     "output_type": "execute_result"
    }
   ],
   "source": [
    "solve(equations)"
   ]
  }
 ],
 "metadata": {
  "kernelspec": {
   "display_name": "Python 3",
   "language": "python",
   "name": "python3"
  },
  "language_info": {
   "codemirror_mode": {
    "name": "ipython",
    "version": 3
   },
   "file_extension": ".py",
   "mimetype": "text/x-python",
   "name": "python",
   "nbconvert_exporter": "python",
   "pygments_lexer": "ipython3",
   "version": "3.6.3"
  }
 },
 "nbformat": 4,
 "nbformat_minor": 2
}
