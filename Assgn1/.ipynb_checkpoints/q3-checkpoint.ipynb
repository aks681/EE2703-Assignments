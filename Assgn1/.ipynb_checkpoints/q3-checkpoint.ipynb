{
 "cells": [
  {
   "cell_type": "code",
   "execution_count": 53,
   "metadata": {
    "collapsed": true
   },
   "outputs": [],
   "source": [
    "import string"
   ]
  },
  {
   "cell_type": "code",
   "execution_count": 54,
   "metadata": {
    "collapsed": true
   },
   "outputs": [],
   "source": [
    "with open('the-hound-of-the-baskervilles.txt',\"r\") as f:\n",
    "    contents=f.read()"
   ]
  },
  {
   "cell_type": "code",
   "execution_count": 55,
   "metadata": {
    "collapsed": true
   },
   "outputs": [],
   "source": [
    "words = contents.split()\n",
    "f = {}"
   ]
  },
  {
   "cell_type": "markdown",
   "metadata": {},
   "source": [
    "## Dictionary Creation"
   ]
  },
  {
   "cell_type": "markdown",
   "metadata": {},
   "source": [
    "The following loop takes the words from the text file, removes the punctuation from the end,  makes it lower case and creates a dictionary with the number of occurrences of each such word. \n",
    "The 10 most occurring words are then displayed at the end."
   ]
  },
  {
   "cell_type": "code",
   "execution_count": 56,
   "metadata": {},
   "outputs": [
    {
     "name": "stdout",
     "output_type": "stream",
     "text": [
      "the 3389\n",
      "of 1654\n",
      "and 1654\n",
      "to 1470\n",
      "i 1465\n",
      "a 1335\n",
      "that 1138\n",
      "it 992\n",
      "in 925\n",
      "he 912\n"
     ]
    }
   ],
   "source": [
    "for i in range(0,len(words)):\n",
    "    words[i] = words[i].strip(string.punctuation).lower()\n",
    "    if words[i] in f:\n",
    "        f[words[i]]+=1\n",
    "    else:\n",
    "        f[words[i]]=1\n",
    "i=0\n",
    "for k in sorted(f,key=f.get,reverse=True):\n",
    "    print (k,f[k])\n",
    "    i = i+1\n",
    "    if (i==10):\n",
    "        break"
   ]
  }
 ],
 "metadata": {
  "kernelspec": {
   "display_name": "Python 2",
   "language": "python",
   "name": "python2"
  },
  "language_info": {
   "codemirror_mode": {
    "name": "ipython",
    "version": 3
   },
   "file_extension": ".py",
   "mimetype": "text/x-python",
   "name": "python",
   "nbconvert_exporter": "python",
   "pygments_lexer": "ipython3",
   "version": "3.5.2"
  }
 },
 "nbformat": 4,
 "nbformat_minor": 2
}
